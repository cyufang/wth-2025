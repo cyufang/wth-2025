{
 "cells": [
  {
   "cell_type": "code",
   "execution_count": null,
   "id": "c0233e30",
   "metadata": {},
   "outputs": [],
   "source": []
  },
  {
   "cell_type": "code",
   "execution_count": 11,
   "id": "f8d74222",
   "metadata": {},
   "outputs": [],
   "source": [
    "import numpy as np\n",
    "import pandas as pd\n",
    "import string\n",
    "import matplotlib.pyplot as plt \n",
    "import matplotlib.ticker as ticker\n",
    "from collections import Counter\n",
    "from nltk.corpus import stopwords\n",
    "import nltk\n",
    "import re"
   ]
  },
  {
   "cell_type": "code",
   "execution_count": 12,
   "id": "6c09df77",
   "metadata": {},
   "outputs": [],
   "source": [
    "def read_msgs_file(friend: str, username: str):\n",
    "    file_path = friend + '.txt'\n",
    "    ref = []\n",
    "    printable_chars = set(string.printable)\n",
    "    LTR_MARK = \"\\u200E\"\n",
    "\n",
    "\n",
    "    with open(file_path, 'r', encoding=\"utf-8\") as file:\n",
    "        # for line in file:\n",
    "        for line in file:\n",
    "            try:\n",
    "                if \"�\" in line or LTR_MARK in line:  # replacement character used when decode fails\n",
    "                    continue\n",
    "                \n",
    "                # Skip if any non-printable chars\n",
    "                if not all(c in printable_chars or c.isspace() for c in line):\n",
    "                    continue\n",
    "\n",
    "                line = line.split('] ')\n",
    "                date, time = map(str, line[0].split(', '))\n",
    "                date = date[1:]\n",
    "                if date[-2:] != '25': continue\n",
    "\n",
    "                line = line[1].split(': ')\n",
    "                frm = line[0]\n",
    "                msg = line[1][:-1]\n",
    "                \n",
    "\n",
    "                ref.append({\n",
    "                    'date': date,\n",
    "                    'time': time,\n",
    "                    'frm': frm,\n",
    "                    'msg': msg\n",
    "                })\n",
    "\n",
    "            except Exception as e:\n",
    "                continue\n",
    "            \n",
    "\n",
    "\n",
    "    df = pd.DataFrame(ref)\n",
    "    df['frm'] = np.where(df['frm'] == username, 'me',\n",
    "           np.where(df['frm'] != username, 'friend', df['frm']))\n",
    "    return df\n"
   ]
  },
  {
   "cell_type": "code",
   "execution_count": 13,
   "id": "1758cc4a",
   "metadata": {},
   "outputs": [
    {
     "data": {
      "text/html": [
       "<div>\n",
       "<style scoped>\n",
       "    .dataframe tbody tr th:only-of-type {\n",
       "        vertical-align: middle;\n",
       "    }\n",
       "\n",
       "    .dataframe tbody tr th {\n",
       "        vertical-align: top;\n",
       "    }\n",
       "\n",
       "    .dataframe thead th {\n",
       "        text-align: right;\n",
       "    }\n",
       "</style>\n",
       "<table border=\"1\" class=\"dataframe\">\n",
       "  <thead>\n",
       "    <tr style=\"text-align: right;\">\n",
       "      <th></th>\n",
       "      <th>date</th>\n",
       "      <th>time</th>\n",
       "      <th>frm</th>\n",
       "      <th>msg</th>\n",
       "    </tr>\n",
       "  </thead>\n",
       "  <tbody>\n",
       "    <tr>\n",
       "      <th>0</th>\n",
       "      <td>1/1/25</td>\n",
       "      <td>11:32:05</td>\n",
       "      <td>me</td>\n",
       "      <td>last seen td 4am is crazy</td>\n",
       "    </tr>\n",
       "    <tr>\n",
       "      <th>1</th>\n",
       "      <td>1/1/25</td>\n",
       "      <td>11:32:13</td>\n",
       "      <td>friend</td>\n",
       "      <td>Woooo</td>\n",
       "    </tr>\n",
       "    <tr>\n",
       "      <th>2</th>\n",
       "      <td>1/1/25</td>\n",
       "      <td>11:32:21</td>\n",
       "      <td>friend</td>\n",
       "      <td>What laptop</td>\n",
       "    </tr>\n",
       "    <tr>\n",
       "      <th>3</th>\n",
       "      <td>1/1/25</td>\n",
       "      <td>11:32:22</td>\n",
       "      <td>friend</td>\n",
       "      <td>Isit</td>\n",
       "    </tr>\n",
       "    <tr>\n",
       "      <th>4</th>\n",
       "      <td>1/1/25</td>\n",
       "      <td>11:49:53</td>\n",
       "      <td>me</td>\n",
       "      <td>o is like thinkpad x13</td>\n",
       "    </tr>\n",
       "  </tbody>\n",
       "</table>\n",
       "</div>"
      ],
      "text/plain": [
       "     date      time     frm                        msg\n",
       "0  1/1/25  11:32:05      me  last seen td 4am is crazy\n",
       "1  1/1/25  11:32:13  friend                      Woooo\n",
       "2  1/1/25  11:32:21  friend                What laptop\n",
       "3  1/1/25  11:32:22  friend                       Isit\n",
       "4  1/1/25  11:49:53      me     o is like thinkpad x13"
      ]
     },
     "execution_count": 13,
     "metadata": {},
     "output_type": "execute_result"
    }
   ],
   "source": [
    "df = read_msgs_file(friend='zm', username='yf')\n",
    "df.head()"
   ]
  },
  {
   "cell_type": "code",
   "execution_count": 14,
   "id": "5023b217",
   "metadata": {},
   "outputs": [],
   "source": [
    "new_ref = list(df.frm + ': ' + df.msg)"
   ]
  },
  {
   "cell_type": "code",
   "execution_count": 15,
   "id": "564cd531",
   "metadata": {},
   "outputs": [
    {
     "ename": "NameError",
     "evalue": "name 'json' is not defined",
     "output_type": "error",
     "traceback": [
      "\u001b[1;31m---------------------------------------------------------------------------\u001b[0m",
      "\u001b[1;31mNameError\u001b[0m                                 Traceback (most recent call last)",
      "Cell \u001b[1;32mIn[15], line 2\u001b[0m\n\u001b[0;32m      1\u001b[0m \u001b[38;5;28;01mwith\u001b[39;00m \u001b[38;5;28mopen\u001b[39m(\u001b[38;5;124m'\u001b[39m\u001b[38;5;124mcred.json\u001b[39m\u001b[38;5;124m'\u001b[39m, \u001b[38;5;124m'\u001b[39m\u001b[38;5;124mr\u001b[39m\u001b[38;5;124m'\u001b[39m) \u001b[38;5;28;01mas\u001b[39;00m f:\n\u001b[1;32m----> 2\u001b[0m     config \u001b[38;5;241m=\u001b[39m \u001b[43mjson\u001b[49m\u001b[38;5;241m.\u001b[39mload(f)\n\u001b[0;32m      4\u001b[0m api_key \u001b[38;5;241m=\u001b[39m config[\u001b[38;5;124m'\u001b[39m\u001b[38;5;124mapiKey\u001b[39m\u001b[38;5;124m'\u001b[39m]\n\u001b[0;32m      5\u001b[0m query \u001b[38;5;241m=\u001b[39m \u001b[38;5;124m\"\u001b[39m\u001b[38;5;124mExplain quantum computing in simple terms\u001b[39m\u001b[38;5;124m\"\u001b[39m\n",
      "\u001b[1;31mNameError\u001b[0m: name 'json' is not defined"
     ]
    }
   ],
   "source": [
    "with open('cred.json', 'r') as f:\n",
    "    config = json.load(f)\n",
    "    \n",
    "api_key = config['apiKey']\n",
    "query = \"Explain quantum computing in simple terms\"\n",
    "print(api_key)\n",
    "query"
   ]
  },
  {
   "cell_type": "code",
   "execution_count": null,
   "id": "c814a890",
   "metadata": {},
   "outputs": [
    {
     "ename": "ModuleNotFoundError",
     "evalue": "No module named 'openai'",
     "output_type": "error",
     "traceback": [
      "\u001b[1;31m---------------------------------------------------------------------------\u001b[0m",
      "\u001b[1;31mModuleNotFoundError\u001b[0m                       Traceback (most recent call last)",
      "Cell \u001b[1;32mIn[17], line 1\u001b[0m\n\u001b[1;32m----> 1\u001b[0m \u001b[38;5;28;01mfrom\u001b[39;00m\u001b[38;5;250m \u001b[39m\u001b[38;5;21;01mopenai\u001b[39;00m\u001b[38;5;250m \u001b[39m\u001b[38;5;28;01mimport\u001b[39;00m OpenAI\n\u001b[0;32m      3\u001b[0m client \u001b[38;5;241m=\u001b[39m OpenAI(\n\u001b[0;32m      4\u001b[0m   base_url\u001b[38;5;241m=\u001b[39m\u001b[38;5;124m\"\u001b[39m\u001b[38;5;124mhttps://openrouter.ai/api/v1\u001b[39m\u001b[38;5;124m\"\u001b[39m,\n\u001b[0;32m      5\u001b[0m   api_key\u001b[38;5;241m=\u001b[39mapi_key,\n\u001b[0;32m      6\u001b[0m )\n\u001b[0;32m      8\u001b[0m completion \u001b[38;5;241m=\u001b[39m client\u001b[38;5;241m.\u001b[39mchat\u001b[38;5;241m.\u001b[39mcompletions\u001b[38;5;241m.\u001b[39mcreate(\n\u001b[0;32m      9\u001b[0m   extra_body\u001b[38;5;241m=\u001b[39m{},\n\u001b[0;32m     10\u001b[0m   model\u001b[38;5;241m=\u001b[39m\u001b[38;5;124m\"\u001b[39m\u001b[38;5;124mdeepseek/deepseek-r1:free\u001b[39m\u001b[38;5;124m\"\u001b[39m,\n\u001b[1;32m   (...)\u001b[0m\n\u001b[0;32m     16\u001b[0m   ]\n\u001b[0;32m     17\u001b[0m )\n",
      "\u001b[1;31mModuleNotFoundError\u001b[0m: No module named 'openai'"
     ]
    }
   ],
   "source": [
    "from openai import OpenAI\n",
    "\n",
    "client = OpenAI(\n",
    "  base_url=\"https://openrouter.ai/api/v1\",\n",
    "  api_key=api_key,\n",
    ")\n",
    "\n",
    "completion = client.chat.completions.create(\n",
    "  extra_body={},\n",
    "  model=\"deepseek/deepseek-r1:free\",\n",
    "  messages=[\n",
    "    {\n",
    "      \"role\": \"user\",\n",
    "      \"content\": \"What is the meaning of life?\"\n",
    "    }\n",
    "  ]\n",
    ")\n",
    "print(completion.choices[0].message.content)"
   ]
  },
  {
   "cell_type": "code",
   "execution_count": null,
   "id": "f30d7596",
   "metadata": {},
   "outputs": [],
   "source": [
    "base_prompt= '''\n",
    "Role & Task:\n",
    "You are a master of monotonous, long-winded, and deeply mundane storytelling. Your task is to write a script for a 5-minute audio segment (approx. 600-750 words) for a hackathon project. The project is a podcast/app designed to help users fall asleep through incredibly boring, rant-filled monologues.\n",
    "\n",
    "Core Instructions:\n",
    "\n",
    "Tone & Voice: The script's tone and voice must meticulously match the style found in the following transcript of my messages from the last month. Pay close attention to:\n",
    "\n",
    "Sentence Structure: (e.g., long, rambling sentences with multiple clauses; frequent use of tangents; repetitive points).\n",
    "\n",
    "Pacing: (e.g., slow, meandering, with no sense of urgency).\n",
    "\n",
    "Vocabulary & Topics: (e.g., specific words, phrases, and subjects I frequently revert to).\n",
    "\n",
    "Cadence & Rhythm: (e.g., how ideas are connected—or not connected—and how a thought evolves over several sentences).\n",
    "\n",
    "Content: The script should be a first-person monologue. It is not a story with a plot, but a rant or a deep dive into a trivial, everyday subject. The goal is to be just engaging enough to focus on, but so tedious that it effortlessly lulls the listener to sleep. Think of it as \"audio melatonin.\" The topic should be something universally relatable but utterly non-stimulating (e.g., the subtle differences between brands of paper towels, the ordeal of organizing a junk drawer, the history of the stapler, the frustration of a slightly wobbly table).\n",
    "\n",
    "Output Format:\n",
    "\n",
    "Format the script clearly for audio, specifying tone and pace in parentheses.\n",
    "\n",
    "Include subtle, non-intrusive sound effect cues (e.g., [SOUND: Distant, gentle keyboard clacking], [SOUND: Soft sigh]) to enhance the somnambulant atmosphere.\n",
    "\n",
    "Do not use music.\n",
    "\n",
    "Ensure the script is approximately 5 minutes long when read at a slow, deliberate pace.\n",
    "\n",
    "Here is the transcript of my messages for you to analyze and emulate:\n",
    "\n",
    "[PASTE YOUR TRANSCRIPT HERE]\n",
    "\n",
    "Begin generating the script now.\n",
    "'''"
   ]
  }
 ],
 "metadata": {
  "kernelspec": {
   "display_name": "Python 3",
   "language": "python",
   "name": "python3"
  },
  "language_info": {
   "codemirror_mode": {
    "name": "ipython",
    "version": 3
   },
   "file_extension": ".py",
   "mimetype": "text/x-python",
   "name": "python",
   "nbconvert_exporter": "python",
   "pygments_lexer": "ipython3",
   "version": "3.10.10"
  }
 },
 "nbformat": 4,
 "nbformat_minor": 5
}

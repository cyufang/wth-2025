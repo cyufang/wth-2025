{
 "cells": [
  {
   "cell_type": "code",
   "execution_count": 5,
   "id": "db666c0d",
   "metadata": {},
   "outputs": [
    {
     "ename": "KeyboardInterrupt",
     "evalue": "",
     "output_type": "error",
     "traceback": [
      "\u001b[1;31m---------------------------------------------------------------------------\u001b[0m",
      "\u001b[1;31mKeyboardInterrupt\u001b[0m                         Traceback (most recent call last)",
      "Cell \u001b[1;32mIn[5], line 14\u001b[0m\n\u001b[0;32m     11\u001b[0m         time\u001b[38;5;241m.\u001b[39msleep(\u001b[38;5;241m0.1\u001b[39m)\n\u001b[0;32m     13\u001b[0m \u001b[38;5;66;03m# Usage\u001b[39;00m\n\u001b[1;32m---> 14\u001b[0m \u001b[43mplay_mp3_pygame\u001b[49m\u001b[43m(\u001b[49m\u001b[38;5;124;43m\"\u001b[39;49m\u001b[38;5;124;43mtesting_aud2.mp3\u001b[39;49m\u001b[38;5;124;43m\"\u001b[39;49m\u001b[43m)\u001b[49m\n",
      "Cell \u001b[1;32mIn[5], line 11\u001b[0m, in \u001b[0;36mplay_mp3_pygame\u001b[1;34m(file_path)\u001b[0m\n\u001b[0;32m      9\u001b[0m \u001b[38;5;66;03m# Wait for the music to finish playing\u001b[39;00m\n\u001b[0;32m     10\u001b[0m \u001b[38;5;28;01mwhile\u001b[39;00m pygame\u001b[38;5;241m.\u001b[39mmixer\u001b[38;5;241m.\u001b[39mmusic\u001b[38;5;241m.\u001b[39mget_busy():\n\u001b[1;32m---> 11\u001b[0m     \u001b[43mtime\u001b[49m\u001b[38;5;241;43m.\u001b[39;49m\u001b[43msleep\u001b[49m\u001b[43m(\u001b[49m\u001b[38;5;241;43m0.1\u001b[39;49m\u001b[43m)\u001b[49m\n",
      "\u001b[1;31mKeyboardInterrupt\u001b[0m: "
     ]
    }
   ],
   "source": [
    "import pygame\n",
    "import time\n",
    "\n",
    "def play_mp3_pygame(file_path):\n",
    "    pygame.mixer.init()\n",
    "    pygame.mixer.music.load(file_path)\n",
    "    pygame.mixer.music.play()\n",
    "    \n",
    "    # Wait for the music to finish playing\n",
    "    while pygame.mixer.music.get_busy():\n",
    "        time.sleep(0.1)\n",
    "\n",
    "# Usage\n",
    "play_mp3_pygame(\"testing_aud2.mp3\")"
   ]
  },
  {
   "cell_type": "code",
   "execution_count": null,
   "id": "b32756cf",
   "metadata": {},
   "outputs": [
    {
     "name": "stdout",
     "output_type": "stream",
     "text": [
      "Playing snippet 1: 4s from audio A (starting at 0s)\n",
      "Playing audio B\n",
      "Playing snippet 2: 5s from audio A (starting at 4s)\n",
      "Playing audio B\n",
      "Playing snippet 3: 3s from audio A (starting at 9s)\n",
      "Playing audio B\n",
      "Playing snippet 4: 6s from audio A (starting at 12s)\n",
      "Playback completed!\n"
     ]
    }
   ],
   "source": [
    "import pygame\n",
    "import time\n",
    "import io\n",
    "import random\n",
    "\n",
    "class MP3SnippetPlayer:\n",
    "    def __init__(self):\n",
    "        pygame.mixer.init()\n",
    "        self.sample_rate = 44100  # Standard audio sample rate\n",
    "        self.bitsize = -16        # Signed 16-bit\n",
    "        self.channels = 2         # Stereo\n",
    "        self.buffer = 1024        # Buffer size\n",
    "        self.yawn_counts = 4\n",
    "        \n",
    "    def play_audio_segment(self, audio_segment):\n",
    "        \"\"\"Play an AudioSegment using pygame\"\"\"\n",
    "        # Convert to raw audio data\n",
    "        raw_data = audio_segment.raw_data\n",
    "        \n",
    "        # Create a sound object from raw data\n",
    "        sound = pygame.mixer.Sound(buffer=raw_data)\n",
    "        sound.play()\n",
    "        \n",
    "        # Wait for the sound to finish playing\n",
    "        duration = len(audio_segment) / 1000.0  # Convert ms to seconds\n",
    "        time.sleep(duration)\n",
    "    \n",
    "    \n",
    "    def play_snippets_pygame_only(self, file_a, time_intervals):\n",
    "        \"\"\"\n",
    "        Alternative method using only pygame (no pydub dependency)\n",
    "        \"\"\"\n",
    "        try:\n",
    "            pygame.mixer.music.load(file_a)\n",
    "\n",
    "            rand = random.randint(1, self.yawn_counts)\n",
    "\n",
    "            file_b = f\"yawns/yawn{rand}.mp3\"\n",
    "            audio_b = pygame.mixer.Sound(file_b)\n",
    "            \n",
    "            current_position = 0  # Current position in seconds\n",
    "            \n",
    "            for i, interval in enumerate(time_intervals):\n",
    "                # Set the position and play the snippet\n",
    "                pygame.mixer.music.play(start=current_position)\n",
    "                \n",
    "                print(f\"Playing snippet {i+1}: {interval}s from audio A (starting at {current_position}s)\")\n",
    "                \n",
    "                # Wait for the snippet duration\n",
    "                time.sleep(interval)\n",
    "                \n",
    "                # Stop audio A\n",
    "                pygame.mixer.music.stop()\n",
    "                \n",
    "                current_position += interval\n",
    "                \n",
    "                # Check if we should play audio_b (unless it's the last snippet)\n",
    "                if i < len(time_intervals) - 1 and current_position < self.get_audio_duration(file_a):\n",
    "                    print(\"Playing audio B\")\n",
    "                    audio_b.play()\n",
    "                    \n",
    "                    # Wait for audio_b to finish\n",
    "                    while pygame.mixer.get_busy():\n",
    "                        time.sleep(0.1)\n",
    "                    \n",
    "                # Check if we've reached the end of audio_a\n",
    "                if current_position >= self.get_audio_duration(file_a):\n",
    "                    print(\"Reached end of audio A\")\n",
    "                    break\n",
    "                    \n",
    "        except Exception as e:\n",
    "            print(f\"Error: {e}\")\n",
    "    \n",
    "    def get_audio_duration(self, file_path):\n",
    "        \"\"\"Get duration of audio file in seconds using pygame\"\"\"\n",
    "        sound = pygame.mixer.Sound(file_path)\n",
    "        return sound.get_length()\n",
    "\n",
    "\n",
    "player = MP3SnippetPlayer()\n",
    "file_a = \"testing_aud2.mp3\" \n",
    "player.play_snippets_pygame_only(file_a, time_intervals = [4, 5, 3, 6])\n",
    "print(\"Playback completed!\")"
   ]
  }
 ],
 "metadata": {
  "kernelspec": {
   "display_name": "Python 3",
   "language": "python",
   "name": "python3"
  },
  "language_info": {
   "codemirror_mode": {
    "name": "ipython",
    "version": 3
   },
   "file_extension": ".py",
   "mimetype": "text/x-python",
   "name": "python",
   "nbconvert_exporter": "python",
   "pygments_lexer": "ipython3",
   "version": "3.10.10"
  }
 },
 "nbformat": 4,
 "nbformat_minor": 5
}
